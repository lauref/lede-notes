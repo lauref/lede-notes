{
 "cells": [
  {
   "cell_type": "markdown",
   "metadata": {},
   "source": [
    "#The basics of python \n",
    "\n",
    "This is a IPython notebook which contains most of the important pieces that I've learned throughout the class\n",
    "\n",
    "\n"
   ]
  },
  {
   "cell_type": "code",
   "execution_count": null,
   "metadata": {
    "collapsed": true
   },
   "outputs": [],
   "source": [
    "# Using the sign: ``#`` allow the coder to include comments to its codes (in order to clarify it). We use '#' in almost every single code"
   ]
  },
  {
   "cell_type": "markdown",
   "metadata": {},
   "source": [
    "### Data Type, Variables \n",
    "\n",
    "\t"
   ]
  },
  {
   "cell_type": "code",
   "execution_count": 1,
   "metadata": {
    "collapsed": false
   },
   "outputs": [
    {
     "name": "stdout",
     "output_type": "stream",
     "text": [
      "Hello world!\n"
     ]
    }
   ],
   "source": [
    "print \"Hello world!\"\n",
    "\n",
    "#Hello world is a 'string'"
   ]
  },
  {
   "cell_type": "code",
   "execution_count": 1,
   "metadata": {
    "collapsed": false
   },
   "outputs": [
    {
     "name": "stdout",
     "output_type": "stream",
     "text": [
      "5\n"
     ]
    }
   ],
   "source": [
    "print 5\n",
    "\n",
    "#number without decimal are called 'integers'"
   ]
  },
  {
   "cell_type": "code",
   "execution_count": 2,
   "metadata": {
    "collapsed": false
   },
   "outputs": [
    {
     "name": "stdout",
     "output_type": "stream",
     "text": [
      "9.99\n"
     ]
    }
   ],
   "source": [
    "print 9.99\n",
    "\n",
    "#numbers with decimal are called 'floats'\n",
    "\n",
    "#A string can not be added to an integer. e.g: print 10 + \"Hello\" will be considered as a syntax error by python\n"
   ]
  },
  {
   "cell_type": "markdown",
   "metadata": {},
   "source": [
    "Thanks to the function``str`` we can make a string with an integer and with ``int`` we can make an integer with string."
   ]
  },
  {
   "cell_type": "code",
   "execution_count": 4,
   "metadata": {
    "collapsed": false
   },
   "outputs": [
    {
     "name": "stdout",
     "output_type": "stream",
     "text": [
      "5Hello\n",
      "10\n"
     ]
    }
   ],
   "source": [
    "#for exemple:\n",
    "\n",
    "print str(5) + \"Hello\" \n",
    "\n",
    "print 5 + int(\"5\") \n",
    "\n"
   ]
  },
  {
   "cell_type": "markdown",
   "metadata": {},
   "source": [
    "## Another type of variable\n"
   ]
  },
  {
   "cell_type": "code",
   "execution_count": 5,
   "metadata": {
    "collapsed": false
   },
   "outputs": [
    {
     "name": "stdout",
     "output_type": "stream",
     "text": [
      "Laure\n"
     ]
    }
   ],
   "source": [
    "#Variables are nothing but reserved memory locations to store values, hence the following is also a variables\n",
    "\n",
    "name = \"Laure\"\n",
    "print name\n",
    "\n",
    "#My name is the variable"
   ]
  },
  {
   "cell_type": "markdown",
   "metadata": {},
   "source": [
    "##FUNCTIONS\n",
    "\n",
    "functions are little self-contained programs that perform a specific task. Python has a lot of pre-made function that we can use such as:\n",
    "\n",
    "``raw_input()`` (The raw_input function prompts you for input and returns that as a string. )\n",
    "`"
   ]
  },
  {
   "cell_type": "markdown",
   "metadata": {},
   "source": [
    "We can use it to ask the user's name:"
   ]
  },
  {
   "cell_type": "code",
   "execution_count": 6,
   "metadata": {
    "collapsed": false
   },
   "outputs": [
    {
     "name": "stdout",
     "output_type": "stream",
     "text": [
      "Enter your name: Laure\n",
      "Hello, Laure\n"
     ]
    }
   ],
   "source": [
    "name = raw_input(\"Enter your name: \")\n",
    "print \"Hello,\",name"
   ]
  },
  {
   "cell_type": "markdown",
   "metadata": {},
   "source": [
    "or to ask the user's age:"
   ]
  },
  {
   "cell_type": "code",
   "execution_count": 7,
   "metadata": {
    "collapsed": false
   },
   "outputs": [
    {
     "name": "stdout",
     "output_type": "stream",
     "text": [
      "Enter your year of birth: 1990\n",
      "You are approximately 25 years old.\n"
     ]
    }
   ],
   "source": [
    "year_of_birth = raw_input(\"Enter your year of birth: \")\n",
    "age = 2015 - int(year_of_birth)\n",
    "print \"You are approximately\", age, \"years old.\""
   ]
  },
  {
   "cell_type": "markdown",
   "metadata": {},
   "source": [
    "#Day 2: Dictionaries and Lists"
   ]
  },
  {
   "cell_type": "markdown",
   "metadata": {},
   "source": [
    "### DICTIONARY\n",
    "\n",
    "We can make a dictionary using ``{}``. A dictionary consists of keys and values."
   ]
  },
  {
   "cell_type": "code",
   "execution_count": 8,
   "metadata": {
    "collapsed": false
   },
   "outputs": [
    {
     "name": "stdout",
     "output_type": "stream",
     "text": [
      "Paris\n"
     ]
    }
   ],
   "source": [
    "me = {'name': 'Laure', 'city': 'Paris', 'age': 25} \n",
    "print me['city']"
   ]
  },
  {
   "cell_type": "markdown",
   "metadata": {},
   "source": [
    "Thanks to the ``.keys`` function python can print all the keys of a dictionary.\n",
    "\n",
    "With the ``type`` function we can ask for the data type."
   ]
  },
  {
   "cell_type": "code",
   "execution_count": 9,
   "metadata": {
    "collapsed": false
   },
   "outputs": [
    {
     "name": "stdout",
     "output_type": "stream",
     "text": [
      "Obama became president in 2009\n",
      "['Clinton', 'Carter', 'Reagan', 'Bush', 'Bush2', 'Obama']\n",
      "<type 'int'>\n",
      "<type 'str'>\n",
      "<type 'dict'>\n",
      "<type 'list'>\n",
      "<type 'dict'>\n",
      "<type 'str'>\n",
      "<type 'list'>\n"
     ]
    }
   ],
   "source": [
    "presidents = {\n",
    "\"Obama\": 2009,\n",
    "\"Bush2\" : 2001,\n",
    "\"Clinton\": 1993,\n",
    "\"Bush\": 1989,\n",
    "\"Reagan\": 1981,\n",
    "\"Carter\": 1977\n",
    "}\n",
    "\n",
    "print \"Obama became president in\", presidents[\"Obama\"]\n",
    "\n",
    "#Get a list of keys from a Python dictionary\n",
    "\n",
    "print presidents.keys() \n",
    "\n",
    "print type(5)\n",
    "print type('Hello')\n",
    "print type(presidents)\n",
    "print type(presidents.keys())\n",
    "print type(presidents)\n",
    "print type(\"Hello\")\n",
    "print type(presidents.keys())"
   ]
  },
  {
   "cell_type": "markdown",
   "metadata": {},
   "source": [
    "### LISTS"
   ]
  },
  {
   "cell_type": "markdown",
   "metadata": {},
   "source": [
    "We can build a list using [ ]."
   ]
  },
  {
   "cell_type": "code",
   "execution_count": 10,
   "metadata": {
    "collapsed": false,
    "scrolled": true
   },
   "outputs": [
    {
     "name": "stdout",
     "output_type": "stream",
     "text": [
      "<type 'list'>\n",
      "there are 21 elements in years\n",
      "the last number in the list is [19]\n"
     ]
    }
   ],
   "source": [
    "years = [0,4, 20, 6, 0, 20, 5, 1, 3, 1, 0, 7, 2, 1.5, 11, 0, 15, 2, 2, 10, 0]\n",
    "\n",
    "print type (years)\n",
    "\n",
    "#how many elements are in years? \n",
    "\n",
    "print \"there are\", len(years), \"elements in years\"\n",
    "print \"the last number in the list is\", [19]  \n"
   ]
  },
  {
   "cell_type": "markdown",
   "metadata": {},
   "source": [
    "Using the ``len`` function we get the amount of values in the list. Further we can use ``max``, ``min``, ``sum`` functions to make some calculations."
   ]
  },
  {
   "cell_type": "code",
   "execution_count": 11,
   "metadata": {
    "collapsed": false
   },
   "outputs": [
    {
     "name": "stdout",
     "output_type": "stream",
     "text": [
      "there are 21 elements in years\n",
      "the last number in the list is 10\n",
      "0\n",
      "20\n",
      "0\n",
      "110.5\n",
      "5.2619047619\n",
      "7\n"
     ]
    }
   ],
   "source": [
    "print \"there are\", len(years), \"elements in years\"\n",
    "print \"the last number in the list is\", years[19]\n",
    "\n",
    "print years[len(years) - 1]\n",
    "\n",
    "print max(years)\n",
    "print min(years)\n",
    "print sum(years)\n",
    "print sum(years)/len(years)\n",
    "print years[11]"
   ]
  },
  {
   "cell_type": "markdown",
   "metadata": {},
   "source": [
    "We can sort the list by using the 'sort' function' "
   ]
  },
  {
   "cell_type": "code",
   "execution_count": 15,
   "metadata": {
    "collapsed": false
   },
   "outputs": [
    {
     "name": "stdout",
     "output_type": "stream",
     "text": [
      "here are the sorted years [0, 0, 0, 0, 0, 1, 1, 1.5, 2, 2, 2, 3, 4, 5, 6, 7, 10, 11, 15, 20, 20]\n",
      "years is still unsorted [0, 4, 20, 6, 0, 20, 5, 1, 3, 1, 0, 7, 2, 1.5, 11, 0, 15, 2, 2, 10, 0]\n",
      "2\n",
      "[0, 0, 0, 0, 0, 1, 1, 1.5, 2, 2, 2, 3, 4, 5, 6, 7, 10, 11, 15, 20, 20]\n"
     ]
    }
   ],
   "source": [
    "sorted_years = sorted(years)\n",
    "print \"here are the sorted years\", sorted_years\n",
    "print \"years is still unsorted\", years\n",
    "\n",
    "# A function called sorted ()\n",
    "#print sorted (years)\n",
    "#print years\n",
    "\n",
    "# A method called .sort()\n",
    "#Most of the time you just want to sort the list (use .sort ())\n",
    "#print years.sort()\n",
    "#print years\n",
    "\n",
    "print sorted_years[10]  \n",
    "print sorted_years"
   ]
  },
  {
   "cell_type": "markdown",
   "metadata": {},
   "source": [
    "One can use the method insert, append and extend to add elements to a List. For e.g the ``.append`` method:"
   ]
  },
  {
   "cell_type": "code",
   "execution_count": 17,
   "metadata": {
    "collapsed": false
   },
   "outputs": [
    {
     "name": "stdout",
     "output_type": "stream",
     "text": [
      "red\n",
      "blue\n",
      "yellow\n",
      "green\n",
      "['red', 'blue', 'yellow', 'green', 'purple']\n",
      "red is 3 letters long\n",
      "blue is 4 letters long\n",
      "yellow is 6 letters long\n",
      "green is 5 letters long\n",
      "purple is 6 letters long\n",
      "['red', 'blue', 'yellow', 'green', 'purple'] is 3 letters long\n",
      "['red', 'blue', 'yellow', 'green', 'purple'] is 4 letters long\n",
      "that's my favorite color too\n",
      "['red', 'blue', 'yellow', 'green', 'purple'] is 6 letters long\n",
      "['red', 'blue', 'yellow', 'green', 'purple'] is 5 letters long\n",
      "['red', 'blue', 'yellow', 'green', 'purple'] is 6 letters long\n"
     ]
    }
   ],
   "source": [
    "colors = ['red', 'blue', 'yellow', 'green']\n",
    "\n",
    "print colors[0]\n",
    "print colors[1]\n",
    "print colors[2]\n",
    "print colors[3]\n",
    "\n",
    "colors.append('purple')\n",
    "print colors\n",
    "\n",
    "#SOMETHING COOL/ for loops\n",
    "for color in colors:\n",
    "\tprint color, \"is\", len(color), \"letters long\"\n",
    "\n",
    "favorite_color = 'blue'\n",
    "for color in colors:\n",
    "\tprint colors, \"is\", len(color), \"letters long\"\n",
    "\tif favorite_color == color:\n",
    "\t\tprint \"that's my favorite color too\"\n",
    "\n",
    "\n"
   ]
  },
  {
   "cell_type": "markdown",
   "metadata": {},
   "source": [
    "##  For Loops and If Statements\n",
    "\n",
    "For loops are traditionally used when you have a piece of code which you want to repeat n number of times\n",
    "\n"
   ]
  },
  {
   "cell_type": "code",
   "execution_count": 19,
   "metadata": {
    "collapsed": false
   },
   "outputs": [
    {
     "name": "stdout",
     "output_type": "stream",
     "text": [
      "1\n",
      "Yes\n",
      "2\n",
      "YesYes\n",
      "3\n",
      "YesYesYes\n"
     ]
    }
   ],
   "source": [
    "for count in [1, 2, 3]: \n",
    "    print(count) \n",
    "    print('Yes' * count) \n"
   ]
  },
  {
   "cell_type": "markdown",
   "metadata": {},
   "source": [
    "### IF STATEMENTS"
   ]
  },
  {
   "cell_type": "code",
   "execution_count": 20,
   "metadata": {
    "collapsed": false
   },
   "outputs": [
    {
     "name": "stdout",
     "output_type": "stream",
     "text": [
      "Medium\n"
     ]
    }
   ],
   "source": [
    "n = 2 # ; is NOT necessary in Python\n",
    "if n < 2:\n",
    "\tprint \"Small\"\n",
    "elif n == 2: # == NOT =\n",
    "\tprint \"Medium\"\n",
    "else: # else: NOT else\n",
    "\tprint \"Large\"\n"
   ]
  },
  {
   "cell_type": "markdown",
   "metadata": {
    "collapsed": true
   },
   "source": [
    "###  Take a sample of a CSV file\n",
    "\n",
    "import csv\n",
    "\n",
    "with open('test.csv', 'rb') as f:\n",
    "  data = list(csv.reader(f))\n",
    "\n",
    "The command to take a sample is: \"head -n 500 x.csv > thousand.csv\"\n"
   ]
  },
  {
   "cell_type": "markdown",
   "metadata": {},
   "source": [
    "##Things I want to improve:\n",
    "    \n",
    "- I've had trouble understanding how to loop in lists which are in a dictionary\n",
    "\n",
    "- I've trouble understanding looping in general\n",
    "\n",
    "- I've had trouble remembering when to use '' or == and various others signs (although I guess, only using python on a regular basics is going to make this better)\n",
    " \n",
    " \n",
    "But of course, I'm determined to keep on learning #python\n",
    "\n",
    "#get excited !\n",
    "\n"
   ]
  },
  {
   "cell_type": "code",
   "execution_count": null,
   "metadata": {
    "collapsed": true
   },
   "outputs": [],
   "source": []
  },
  {
   "cell_type": "code",
   "execution_count": null,
   "metadata": {
    "collapsed": true
   },
   "outputs": [],
   "source": []
  }
 ],
 "metadata": {
  "kernelspec": {
   "display_name": "Python 2",
   "language": "python",
   "name": "python2"
  },
  "language_info": {
   "codemirror_mode": {
    "name": "ipython",
    "version": 2
   },
   "file_extension": ".py",
   "mimetype": "text/x-python",
   "name": "python",
   "nbconvert_exporter": "python",
   "pygments_lexer": "ipython2",
   "version": "2.7.9"
  }
 },
 "nbformat": 4,
 "nbformat_minor": 0
}
