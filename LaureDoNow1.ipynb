{
 "cells": [
  {
   "cell_type": "markdown",
   "metadata": {},
   "source": [
    "# Do Now 1\n",
    "## Reviewing: variables, casting, if statements\n",
    "\n",
    "# 1. Given the following code, what is the output?\n",
    "\n",
    "``i = 5``\n",
    "\n",
    "``print 5 * 5``\n",
    "\n",
    "25 will be print out because python I asked python to go through with the multiplication"
   ]
  },
  {
   "cell_type": "code",
   "execution_count": 1,
   "metadata": {
    "collapsed": false
   },
   "outputs": [
    {
     "data": {
      "text/plain": [
       "25"
      ]
     },
     "execution_count": 1,
     "metadata": {},
     "output_type": "execute_result"
    }
   ],
   "source": [
    "i = 5\n",
    "5*5"
   ]
  },
  {
   "cell_type": "markdown",
   "metadata": {},
   "source": [
    "``print i``\n",
    "\n",
    "the number 5 will be print out since 'i' is defined as 5"
   ]
  },
  {
   "cell_type": "code",
   "execution_count": 2,
   "metadata": {
    "collapsed": false
   },
   "outputs": [
    {
     "data": {
      "text/plain": [
       "5"
      ]
     },
     "execution_count": 2,
     "metadata": {},
     "output_type": "execute_result"
    }
   ],
   "source": [
    "i"
   ]
  },
  {
   "cell_type": "markdown",
   "metadata": {},
   "source": [
    "``print \"cat\" + \"dog\"``\n",
    "\n",
    "catdog, because python combines the two strings (quotation marks = string)"
   ]
  },
  {
   "cell_type": "code",
   "execution_count": 4,
   "metadata": {
    "collapsed": false
   },
   "outputs": [
    {
     "data": {
      "text/plain": [
       "'catdog'"
      ]
     },
     "execution_count": 4,
     "metadata": {},
     "output_type": "execute_result"
    }
   ],
   "source": [
    "\"cat\" + \"dog\""
   ]
  },
  {
   "cell_type": "markdown",
   "metadata": {},
   "source": [
    "``print \"cat\", \"dog\"``\n",
    "\n",
    "Becayse the string are divided by a comma python will print \"cat, dog\""
   ]
  },
  {
   "cell_type": "code",
   "execution_count": 5,
   "metadata": {
    "collapsed": false
   },
   "outputs": [
    {
     "data": {
      "text/plain": [
       "('cat', 'dog')"
      ]
     },
     "execution_count": 5,
     "metadata": {},
     "output_type": "execute_result"
    }
   ],
   "source": [
    "\"cat\", \"dog\""
   ]
  },
  {
   "cell_type": "markdown",
   "metadata": {},
   "source": [
    "## 2a) The code below doesn't work. Why not?\n",
    "\n",
    "``print 5 + \"5\"``\n",
    "\n",
    "The code doesn't work because one integer is defined as string. Hence python doesn't recognized the code"
   ]
  },
  {
   "cell_type": "markdown",
   "metadata": {},
   "source": [
    "## 2b) There are several ways to make it work! Give two possible changes and what the output would be in each case."
   ]
  },
  {
   "cell_type": "code",
   "execution_count": 6,
   "metadata": {
    "collapsed": false
   },
   "outputs": [
    {
     "data": {
      "text/plain": [
       "10"
      ]
     },
     "execution_count": 6,
     "metadata": {},
     "output_type": "execute_result"
    }
   ],
   "source": [
    "5 + 5"
   ]
  },
  {
   "cell_type": "code",
   "execution_count": 7,
   "metadata": {
    "collapsed": false
   },
   "outputs": [
    {
     "data": {
      "text/plain": [
       "10"
      ]
     },
     "execution_count": 7,
     "metadata": {},
     "output_type": "execute_result"
    }
   ],
   "source": [
    "print int(5+5)"
   ]
  },
  {
   "cell_type": "markdown",
   "metadata": {},
   "source": [
    "## 3) What is wrong with the following if statement?\n",
    "\n",
    "``if n = 2:``\n",
    "\n",
    "``print \"Two\"``\n",
    "\n",
    "To define a value we need to use two signs \"equals\" + we should have writen print \"n\" and not \"two\"\n",
    "\n",
    "``if n == 2:``\n",
    "``print \"n\"``\n"
   ]
  },
  {
   "cell_type": "markdown",
   "metadata": {},
   "source": [
    "# 4) Given the following code, what would the output be for n = 0, 10, -1, 3 and-5?\n",
    "\n",
    "n is not bigger than 0 hence the first if statement cannot be completed. The second and third if statements however, can be made by python, hence 'F' and 'H' will be printed.\n"
   ]
  },
  {
   "cell_type": "code",
   "execution_count": 22,
   "metadata": {
    "collapsed": false
   },
   "outputs": [
    {
     "name": "stdout",
     "output_type": "stream",
     "text": [
      "0\n",
      "F\n",
      "H\n"
     ]
    }
   ],
   "source": [
    "n = 0\n",
    "\n",
    "print n\n",
    "if n > 0:\n",
    "    print \"A\"\n",
    "    if n >= 3:\n",
    "        print \"B\"\n",
    "        print \"C\"\n",
    "    elif n > 2:\n",
    "        print \"D\"\n",
    "    else:\n",
    "        print \"E\"\n",
    "elif 1 > n > -2:\n",
    "    print \"F\"\n",
    "else:\n",
    "    print \"G\"\n",
    "if n < 5:\n",
    "    print \"H\"\n"
   ]
  },
  {
   "cell_type": "markdown",
   "metadata": {},
   "source": [
    "Since n > 0 (first if statement) python will be A, B and C"
   ]
  },
  {
   "cell_type": "code",
   "execution_count": 18,
   "metadata": {
    "collapsed": false,
    "scrolled": true
   },
   "outputs": [
    {
     "name": "stdout",
     "output_type": "stream",
     "text": [
      "10\n",
      "A\n",
      "B\n",
      "C\n"
     ]
    }
   ],
   "source": [
    "n = 10 \n",
    "print n\n",
    "if n > 0:\n",
    "    print \"A\"\n",
    "    if n >= 3:\n",
    "        print \"B\"\n",
    "        print \"C\"\n",
    "    elif n > 2:\n",
    "        print \"D\"\n",
    "    else:\n",
    "        print \"E\"\n",
    "elif 1 > n > -2:\n",
    "    print \"F\"\n",
    "else:\n",
    "    print \"G\"\n",
    "if n < 5:\n",
    "    print \"H\""
   ]
  },
  {
   "cell_type": "markdown",
   "metadata": {},
   "source": [
    "Because 1 > -1 > -2 python will print the second if staement 'F' and 'H' as well as the third since -1 < 5 "
   ]
  },
  {
   "cell_type": "code",
   "execution_count": 19,
   "metadata": {
    "collapsed": false
   },
   "outputs": [
    {
     "name": "stdout",
     "output_type": "stream",
     "text": [
      "-1\n",
      "F\n",
      "H\n"
     ]
    }
   ],
   "source": [
    "n = -1\n",
    "print n\n",
    "if n > 0:\n",
    "    print \"A\"\n",
    "    if n >= 3:\n",
    "        print \"B\"\n",
    "        print \"C\"\n",
    "    elif n > 2:\n",
    "        print \"D\"\n",
    "    else:\n",
    "        print \"E\"\n",
    "elif 1 > n > -2:\n",
    "    print \"F\"\n",
    "else:\n",
    "    print \"G\"\n",
    "if n < 5:\n",
    "    print \"H\""
   ]
  },
  {
   "cell_type": "code",
   "execution_count": 20,
   "metadata": {
    "collapsed": false
   },
   "outputs": [
    {
     "name": "stdout",
     "output_type": "stream",
     "text": [
      "3\n",
      "A\n",
      "B\n",
      "C\n",
      "H\n"
     ]
    }
   ],
   "source": [
    "n = 3\n",
    "print n\n",
    "if n > 0:\n",
    "    print \"A\"\n",
    "    if n >= 3:\n",
    "        print \"B\"\n",
    "        print \"C\"\n",
    "    elif n > 2:\n",
    "        print \"D\"\n",
    "    else:\n",
    "        print \"E\"\n",
    "elif 1 > n > -2:\n",
    "    print \"F\"\n",
    "else:\n",
    "    print \"G\"\n",
    "if n < 5:\n",
    "    print \"H\""
   ]
  },
  {
   "cell_type": "code",
   "execution_count": 21,
   "metadata": {
    "collapsed": false
   },
   "outputs": [
    {
     "name": "stdout",
     "output_type": "stream",
     "text": [
      "-5\n",
      "G\n",
      "H\n"
     ]
    }
   ],
   "source": [
    "n = -5\n",
    "print n\n",
    "if n > 0:\n",
    "    print \"A\"\n",
    "    if n >= 3:\n",
    "        print \"B\"\n",
    "        print \"C\"\n",
    "    elif n > 2:\n",
    "        print \"D\"\n",
    "    else:\n",
    "        print \"E\"\n",
    "elif 1 > n > -2:\n",
    "    print \"F\"\n",
    "else:\n",
    "    print \"G\"\n",
    "if n < 5:\n",
    "    print \"H\""
   ]
  }
 ],
 "metadata": {
  "kernelspec": {
   "display_name": "Python 2",
   "language": "python",
   "name": "python2"
  },
  "language_info": {
   "codemirror_mode": {
    "name": "ipython",
    "version": 2
   },
   "file_extension": ".py",
   "mimetype": "text/x-python",
   "name": "python",
   "nbconvert_exporter": "python",
   "pygments_lexer": "ipython2",
   "version": "2.7.9"
  }
 },
 "nbformat": 4,
 "nbformat_minor": 0
}
