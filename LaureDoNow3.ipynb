{
 "cells": [
  {
   "cell_type": "markdown",
   "metadata": {},
   "source": [
    "## Reviewing: dictionariesn lists, CVSs\n",
    "\n",
    "#.1What's the output of the following lines?\n",
    "\n",
    "\n",
    "``\n",
    "name = \"Max\"`\n",
    "print \"\"hello\"\", \"\"name\" \n",
    "print \"hello\", name ``\n",
    "``\n",
    "\n",
    "=> 'Hello, name' will be print out\n",
    "\n",
    "=> 'Hello, Max' will be print out\n",
    "\n",
    "\n"
   ]
  },
  {
   "cell_type": "code",
   "execution_count": 5,
   "metadata": {
    "collapsed": false
   },
   "outputs": [
    {
     "name": "stdout",
     "output_type": "stream",
     "text": [
      "hello name\n",
      "hello Max\n"
     ]
    }
   ],
   "source": [
    "name = \"Max\"\n",
    "print \"hello\", \"name\" \n",
    "print \"hello\", name "
   ]
  },
  {
   "cell_type": "markdown",
   "metadata": {},
   "source": [
    "#.2What is the output of the following code? Which lines give you error,\n",
    "\n",
    "\n",
    "``\n",
    "borough_name= 'Manhattan'` #Manhanttan is a string\n",
    "z = [ 'Manhattan', 'Queens' ] `` # z is a list (because of the square brackets) \n",
    "x = { 'borough_name':, ''Manhattan', 'population':, 500 }`` #x is a dictionary (because of the curly brackets) \n",
    "y = { 'Manhattan':, 500 'Queens':, 500 }`` #y is a list (because of the curly brackets) \n",
    "\n",
    "print x['borough_name']`` #Manhanttan will be print out because the value 'x' was defined as such\n",
    "print x[borough_name]`` #there will be an error sign because the quotations marks are missing\n",
    "print x[0]`` #there will be an error sign because you only use number in brakets to call a key in a list (and this is a dictionary)\n",
    "\n",
    "print y ['borough_name']`` #there will be an error message because y is a dictionary not a list\n",
    "print y [borough_name]`` #there will be an error message because y is a dictionary not a list\n",
    "print y [0]`` #there will be an error message because y is a dictionary not a list\n",
    "\n",
    "print z ['borough_name']`` #there will be an error message because z is a dictionary not a list\n",
    "print z [borough_name]`` #there will be an error message because y is a dictionary not a list\n",
    "print z [0]` `` #there will be an error message because z is a dictionary not a list\n",
    "\n",
    "\n"
   ]
  },
  {
   "cell_type": "markdown",
   "metadata": {},
   "source": [
    "#3. We have list called numbers, but we had an off-by-one error: add to every element of the listn then summ the result. Do this in one line\n",
    "\n",
    "``\n",
    "numbers = [1,2,3,4,5]``\n",
    "sum[number ± 1 for num in numers]```\n",
    "\n",
    "#### we use the function 'sum' and a 'for loop'  so that python recongized thar it needs to calculate every element of the list and sum up  the result \n"
   ]
  },
  {
   "cell_type": "markdown",
   "metadata": {},
   "source": [
    "#.4a. Given the following, write code to calculate how many murders we have in total\n",
    "\n",
    "\n",
    "``\n",
    "murders = {'Albany': 23, 'Kings County': 10, 'Rocgester': 7, 'Yonkers': 9 }\n",
    "\n",
    "murder  []``\n",
    "\n",
    "for murder in murders\n",
    "\n",
    "count murders \n",
    "\n",
    "\n",
    "### We created a list out of the dictionary in order to calcultate how many murders we have in total (because we couldn't add the keys of the dictionary it had to  be a in a list)\n"
   ]
  },
  {
   "cell_type": "markdown",
   "metadata": {},
   "source": [
    "#.4b. Write the code to calculta the percentage of the murders happened in Kings Country\n",
    "\n",
    "### I don't remember the code to calcultate it"
   ]
  },
  {
   "cell_type": "code",
   "execution_count": null,
   "metadata": {
    "collapsed": true
   },
   "outputs": [],
   "source": []
  }
 ],
 "metadata": {
  "kernelspec": {
   "display_name": "Python 2",
   "language": "python",
   "name": "python2"
  },
  "language_info": {
   "codemirror_mode": {
    "name": "ipython",
    "version": 2
   },
   "file_extension": ".py",
   "mimetype": "text/x-python",
   "name": "python",
   "nbconvert_exporter": "python",
   "pygments_lexer": "ipython2",
   "version": "2.7.9"
  }
 },
 "nbformat": 4,
 "nbformat_minor": 0
}
